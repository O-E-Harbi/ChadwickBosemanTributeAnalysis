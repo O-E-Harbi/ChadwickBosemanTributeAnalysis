{
 "cells": [
  {
   "metadata": {},
   "cell_type": "markdown",
   "source": "### Load Saved Results",
   "id": "6a69484896759285"
  },
  {
   "cell_type": "code",
   "id": "initial_id",
   "metadata": {
    "collapsed": true,
    "ExecuteTime": {
     "end_time": "2024-12-16T15:47:13.438232Z",
     "start_time": "2024-12-16T15:47:13.244025Z"
    }
   },
   "source": [
    "import pandas as pd\n",
    "import zipfile\n",
    "import os\n",
    "\n",
    "# Path to saved ZIP file\n",
    "zip_path = \"C:/results/clustering_results.zip\"\n",
    "\n",
    "# Extract and load the saved results\n",
    "with zipfile.ZipFile(zip_path, 'r') as zipf:\n",
    "    zipf.extractall(\"C:/results/unzipped_results\")\n",
    "\n",
    "# Load data\n",
    "clustered_df = pd.read_csv(\"C:/results/unzipped_results/clustered_data.csv\")\n",
    "engagement_by_cluster = pd.read_csv(\"C:/results/unzipped_results/engagement_by_cluster.csv\")\n",
    "\n",
    "print(\"Loaded clustered data:\")\n",
    "print(clustered_df.head())\n",
    "\n",
    "print(\"Loaded engagement by cluster data:\")\n",
    "print(engagement_by_cluster.head())\n"
   ],
   "outputs": [
    {
     "name": "stdout",
     "output_type": "stream",
     "text": [
      "Loaded clustered data:\n",
      "            PCA1      PCA2  Community     t-SNE1     t-SNE2  \\\n",
      "0  -13200.543427  0.240808        504  15.221746 -37.107820   \n",
      "1    7539.456573 -0.061274          1  73.897450  -4.388172   \n",
      "2   -4021.543427 -0.061856        505  70.414180   8.639533   \n",
      "3  806583.456573 -0.042218          3  74.369170 -18.025518   \n",
      "4  -10427.543427 -0.060800        287  47.752876  11.446989   \n",
      "\n",
      "  Simplified Community         Username  engagement_score  retweet_count  \\\n",
      "0                Other         matt con          0.303448             17   \n",
      "1                    1   ifeanyi nsofor          0.000985              7   \n",
      "2                Other           mvslim          0.000615              1   \n",
      "3                    3       screentime          0.005332            478   \n",
      "4                Other  rhai ᵕ̈ free 🇵🇸          0.001789              0   \n",
      "\n",
      "   Favorite Count  Followers Count  \n",
      "0             159              579  \n",
      "1              14            21319  \n",
      "2               5             9758  \n",
      "3            3896           820363  \n",
      "4               6             3352  \n",
      "Loaded engagement by cluster data:\n",
      "   Community  engagement_score\n",
      "0          0          0.027120\n",
      "1          1          0.019250\n",
      "2          2          0.009021\n",
      "3          3          0.077364\n",
      "4          4          0.168673\n"
     ]
    }
   ],
   "execution_count": 1
  },
  {
   "metadata": {},
   "cell_type": "code",
   "outputs": [],
   "execution_count": null,
   "source": "",
   "id": "498f0e0a18284e67"
  },
  {
   "metadata": {},
   "cell_type": "code",
   "outputs": [],
   "execution_count": null,
   "source": "",
   "id": "54b6eb9bef5f2065"
  },
  {
   "metadata": {},
   "cell_type": "code",
   "outputs": [],
   "execution_count": null,
   "source": "",
   "id": "53744fe1eef68263"
  },
  {
   "metadata": {},
   "cell_type": "code",
   "outputs": [],
   "execution_count": null,
   "source": "",
   "id": "14c9e1719e098b29"
  },
  {
   "metadata": {},
   "cell_type": "code",
   "outputs": [],
   "execution_count": null,
   "source": "",
   "id": "caee393ad40e797c"
  },
  {
   "metadata": {},
   "cell_type": "code",
   "outputs": [],
   "execution_count": null,
   "source": "",
   "id": "5637e02340853733"
  },
  {
   "metadata": {},
   "cell_type": "code",
   "outputs": [],
   "execution_count": null,
   "source": "",
   "id": "f7898f0688ab487e"
  },
  {
   "metadata": {},
   "cell_type": "code",
   "outputs": [],
   "execution_count": null,
   "source": "",
   "id": "835e0ace9cd5b1cd"
  },
  {
   "metadata": {},
   "cell_type": "code",
   "outputs": [],
   "execution_count": null,
   "source": "",
   "id": "28ef090ef0060494"
  },
  {
   "metadata": {},
   "cell_type": "code",
   "outputs": [],
   "execution_count": null,
   "source": "",
   "id": "c33a72b4a8fb630e"
  },
  {
   "metadata": {},
   "cell_type": "code",
   "outputs": [],
   "execution_count": null,
   "source": "",
   "id": "ab644b66750250aa"
  },
  {
   "metadata": {},
   "cell_type": "code",
   "outputs": [],
   "execution_count": null,
   "source": "",
   "id": "d4d47216ad58bc24"
  },
  {
   "metadata": {},
   "cell_type": "code",
   "outputs": [],
   "execution_count": null,
   "source": "",
   "id": "b37e52d2167250ec"
  }
 ],
 "metadata": {
  "kernelspec": {
   "display_name": "Python 3",
   "language": "python",
   "name": "python3"
  },
  "language_info": {
   "codemirror_mode": {
    "name": "ipython",
    "version": 2
   },
   "file_extension": ".py",
   "mimetype": "text/x-python",
   "name": "python",
   "nbconvert_exporter": "python",
   "pygments_lexer": "ipython2",
   "version": "2.7.6"
  }
 },
 "nbformat": 4,
 "nbformat_minor": 5
}
